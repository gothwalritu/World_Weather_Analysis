{
 "cells": [
  {
   "cell_type": "code",
   "execution_count": 1,
   "id": "848b8a23",
   "metadata": {},
   "outputs": [],
   "source": [
    "# Import the dependencies.\n",
    "import pandas as pd\n",
    "import gmaps\n",
    "import requests\n",
    "\n",
    "# Import the API key.\n",
    "import os\n",
    "from dotenv import load_dotenv\n",
    "load_dotenv()\n",
    "g_key = os.getenv(\"g_key\")\n"
   ]
  },
  {
   "cell_type": "code",
   "execution_count": 2,
   "id": "4149177d",
   "metadata": {},
   "outputs": [
    {
     "data": {
      "text/plain": [
       "str"
      ]
     },
     "execution_count": 2,
     "metadata": {},
     "output_type": "execute_result"
    }
   ],
   "source": [
    "type(g_key)"
   ]
  },
  {
   "cell_type": "code",
   "execution_count": 3,
   "id": "c0e0b78c",
   "metadata": {},
   "outputs": [
    {
     "data": {
      "text/html": [
       "<div>\n",
       "<style scoped>\n",
       "    .dataframe tbody tr th:only-of-type {\n",
       "        vertical-align: middle;\n",
       "    }\n",
       "\n",
       "    .dataframe tbody tr th {\n",
       "        vertical-align: top;\n",
       "    }\n",
       "\n",
       "    .dataframe thead th {\n",
       "        text-align: right;\n",
       "    }\n",
       "</style>\n",
       "<table border=\"1\" class=\"dataframe\">\n",
       "  <thead>\n",
       "    <tr style=\"text-align: right;\">\n",
       "      <th></th>\n",
       "      <th>City_ID</th>\n",
       "      <th>City</th>\n",
       "      <th>Lat</th>\n",
       "      <th>Lng</th>\n",
       "      <th>Max Temp</th>\n",
       "      <th>Humidity</th>\n",
       "      <th>Cloudiness</th>\n",
       "      <th>Wind Speed</th>\n",
       "      <th>Country</th>\n",
       "      <th>Date</th>\n",
       "    </tr>\n",
       "  </thead>\n",
       "  <tbody>\n",
       "    <tr>\n",
       "      <th>0</th>\n",
       "      <td>0</td>\n",
       "      <td>Jaisinghnagar</td>\n",
       "      <td>23.7000</td>\n",
       "      <td>81.3833</td>\n",
       "      <td>76.23</td>\n",
       "      <td>84</td>\n",
       "      <td>92</td>\n",
       "      <td>7.74</td>\n",
       "      <td>IN</td>\n",
       "      <td>2022-07-18 23:17:44</td>\n",
       "    </tr>\n",
       "    <tr>\n",
       "      <th>1</th>\n",
       "      <td>1</td>\n",
       "      <td>Hot Springs</td>\n",
       "      <td>34.5037</td>\n",
       "      <td>-93.0552</td>\n",
       "      <td>82.40</td>\n",
       "      <td>83</td>\n",
       "      <td>27</td>\n",
       "      <td>1.99</td>\n",
       "      <td>US</td>\n",
       "      <td>2022-07-19 04:58:10</td>\n",
       "    </tr>\n",
       "    <tr>\n",
       "      <th>2</th>\n",
       "      <td>2</td>\n",
       "      <td>Rikitea</td>\n",
       "      <td>-23.1203</td>\n",
       "      <td>-134.9692</td>\n",
       "      <td>74.48</td>\n",
       "      <td>74</td>\n",
       "      <td>4</td>\n",
       "      <td>12.80</td>\n",
       "      <td>PF</td>\n",
       "      <td>2022-07-19 04:58:11</td>\n",
       "    </tr>\n",
       "    <tr>\n",
       "      <th>3</th>\n",
       "      <td>3</td>\n",
       "      <td>Mahebourg</td>\n",
       "      <td>-20.4081</td>\n",
       "      <td>57.7000</td>\n",
       "      <td>71.26</td>\n",
       "      <td>68</td>\n",
       "      <td>75</td>\n",
       "      <td>19.57</td>\n",
       "      <td>MU</td>\n",
       "      <td>2022-07-19 04:58:11</td>\n",
       "    </tr>\n",
       "    <tr>\n",
       "      <th>4</th>\n",
       "      <td>4</td>\n",
       "      <td>Saskylakh</td>\n",
       "      <td>71.9167</td>\n",
       "      <td>114.0833</td>\n",
       "      <td>44.37</td>\n",
       "      <td>64</td>\n",
       "      <td>100</td>\n",
       "      <td>15.39</td>\n",
       "      <td>RU</td>\n",
       "      <td>2022-07-19 04:58:12</td>\n",
       "    </tr>\n",
       "  </tbody>\n",
       "</table>\n",
       "</div>"
      ],
      "text/plain": [
       "   City_ID           City      Lat       Lng  Max Temp  Humidity  Cloudiness  \\\n",
       "0        0  Jaisinghnagar  23.7000   81.3833     76.23        84          92   \n",
       "1        1    Hot Springs  34.5037  -93.0552     82.40        83          27   \n",
       "2        2        Rikitea -23.1203 -134.9692     74.48        74           4   \n",
       "3        3      Mahebourg -20.4081   57.7000     71.26        68          75   \n",
       "4        4      Saskylakh  71.9167  114.0833     44.37        64         100   \n",
       "\n",
       "   Wind Speed Country                 Date  \n",
       "0        7.74      IN  2022-07-18 23:17:44  \n",
       "1        1.99      US  2022-07-19 04:58:10  \n",
       "2       12.80      PF  2022-07-19 04:58:11  \n",
       "3       19.57      MU  2022-07-19 04:58:11  \n",
       "4       15.39      RU  2022-07-19 04:58:12  "
      ]
     },
     "execution_count": 3,
     "metadata": {},
     "output_type": "execute_result"
    }
   ],
   "source": [
    "# Store the CSV you saved created in part one into a DataFrame.\n",
    "city_data_df = pd.read_csv(\"weather_data/cities.csv\")\n",
    "city_data_df.head()"
   ]
  },
  {
   "cell_type": "code",
   "execution_count": 4,
   "id": "828ed426",
   "metadata": {},
   "outputs": [
    {
     "data": {
      "text/plain": [
       "City_ID         int64\n",
       "City           object\n",
       "Lat           float64\n",
       "Lng           float64\n",
       "Max Temp      float64\n",
       "Humidity        int64\n",
       "Cloudiness      int64\n",
       "Wind Speed    float64\n",
       "Country        object\n",
       "Date           object\n",
       "dtype: object"
      ]
     },
     "execution_count": 4,
     "metadata": {},
     "output_type": "execute_result"
    }
   ],
   "source": [
    "city_data_df.dtypes\n"
   ]
  },
  {
   "cell_type": "code",
   "execution_count": 5,
   "id": "8028d768",
   "metadata": {},
   "outputs": [
    {
     "data": {
      "application/vnd.jupyter.widget-view+json": {
       "model_id": "33d63f3592684994a2af23ce4e5d01d1",
       "version_major": 2,
       "version_minor": 0
      },
      "text/plain": [
       "Figure(layout=FigureLayout(height='420px'))"
      ]
     },
     "metadata": {},
     "output_type": "display_data"
    }
   ],
   "source": [
    "# Configure gmaps to use your Google API key.\n",
    "gmaps.configure(api_key=g_key)\n",
    "\n",
    "# Heatmap of temperature\n",
    "# Get the latitude and longitude.\n",
    "locations = city_data_df[[\"Lat\", \"Lng\"]]\n",
    "# Get the maximum temperature.\n",
    "max_temp = city_data_df[\"Max Temp\"]\n",
    "# Assign the figure variable.\n",
    "fig = gmaps.figure()\n",
    "# Assign the heatmap variable.\n",
    "heat_layer = gmaps.heatmap_layer(locations, weights=max_temp)\n",
    "# Add the heatmap layer.\n",
    "fig.add_layer(heat_layer)\n",
    "# Call the figure to plot the data.\n",
    "fig\n"
   ]
  },
  {
   "cell_type": "code",
   "execution_count": null,
   "id": "7d1fbafd",
   "metadata": {},
   "outputs": [],
   "source": []
  },
  {
   "cell_type": "code",
   "execution_count": null,
   "id": "20265868",
   "metadata": {},
   "outputs": [],
   "source": []
  },
  {
   "cell_type": "code",
   "execution_count": null,
   "id": "e808d49b",
   "metadata": {},
   "outputs": [],
   "source": []
  }
 ],
 "metadata": {
  "kernelspec": {
   "display_name": "PythonData",
   "language": "python",
   "name": "pythondata"
  },
  "language_info": {
   "codemirror_mode": {
    "name": "ipython",
    "version": 3
   },
   "file_extension": ".py",
   "mimetype": "text/x-python",
   "name": "python",
   "nbconvert_exporter": "python",
   "pygments_lexer": "ipython3",
   "version": "3.9.12"
  }
 },
 "nbformat": 4,
 "nbformat_minor": 5
}
